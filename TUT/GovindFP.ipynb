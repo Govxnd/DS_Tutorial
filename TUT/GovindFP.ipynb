{
  "nbformat": 4,
  "nbformat_minor": 0,
  "metadata": {
    "colab": {
      "provenance": []
    },
    "kernelspec": {
      "name": "python3",
      "display_name": "Python 3"
    },
    "language_info": {
      "name": "python"
    }
  },
  "cells": [
    {
      "cell_type": "code",
      "execution_count": 36,
      "metadata": {
        "colab": {
          "base_uri": "https://localhost:8080/"
        },
        "id": "UbLyR1LgCCAR",
        "outputId": "bd2913ab-8ed5-4f99-b723-c54dc128d677"
      },
      "outputs": [
        {
          "output_type": "stream",
          "name": "stdout",
          "text": [
            "Frequent Itemsets (E-commerce Purchase):\n",
            "    support  itemsets\n",
            "0  0.666667  (laptop)\n"
          ]
        },
        {
          "output_type": "stream",
          "name": "stderr",
          "text": [
            "/usr/local/lib/python3.11/dist-packages/mlxtend/frequent_patterns/fpcommon.py:161: DeprecationWarning: DataFrames with non-bool types result in worse computationalperformance and their support might be discontinued in the future.Please use a DataFrame with bool type\n",
            "  warnings.warn(\n"
          ]
        }
      ],
      "source": [
        "import pandas as pd\n",
        "from mlxtend.frequent_patterns import fpgrowth\n",
        "\n",
        "# Dataset: E-commerce purchase patterns\n",
        "transactions = [\n",
        "    ['laptop', 'mouse', 'keyboard'],\n",
        "    ['laptop', 'headphones'],\n",
        "    ['laptop', 'mouse'],\n",
        "    ['phone', 'charger'],\n",
        "    ['laptop', 'keyboard'],\n",
        "    ['phone', 'charger', 'headphones']\n",
        "]\n",
        "\n",
        "# Convert dataset to one-hot encoding\n",
        "df = pd.DataFrame([{item: 1 for item in transaction} for transaction in transactions]).fillna(0)\n",
        "\n",
        "# Run FP-Growth\n",
        "frequent_itemsets = fpgrowth(df, min_support=0.4, use_colnames=True)\n",
        "\n",
        "print(\"Frequent Itemsets (E-commerce Purchase):\")\n",
        "print(frequent_itemsets)\n"
      ]
    },
    {
      "cell_type": "code",
      "source": [],
      "metadata": {
        "id": "XOrX5Z2nGD8j"
      },
      "execution_count": null,
      "outputs": []
    }
  ]
}