{
  "nbformat": 4,
  "nbformat_minor": 0,
  "metadata": {
    "colab": {
      "provenance": []
    },
    "kernelspec": {
      "name": "python3",
      "display_name": "Python 3"
    },
    "language_info": {
      "name": "python"
    }
  },
  "cells": [
    {
      "cell_type": "code",
      "execution_count": null,
      "metadata": {
        "id": "UbLyR1LgCCAR"
      },
      "outputs": [],
      "source": [
        "import numpy as np\n",
        "from sklearn.ensemble import RandomForestRegressor\n",
        "from sklearn.model_selection import train_test_split\n",
        "from sklearn.datasets import fetch_california_housing\n",
        "from sklearn.metrics import mean_squared_error\n",
        "\n",
        "# Load California Housing Dataset\n",
        "california = fetch_california_housing()\n",
        "X_california = california.data\n",
        "y_california = california.target\n",
        "\n",
        "# Number of models in the ensemble\n",
        "n_models = 5\n",
        "\n",
        "# Split data into training and test sets\n",
        "X_train, X_test, y_train, y_test = train_test_split(X_california, y_california, test_size=0.3, random_state=42)\n",
        "\n",
        "# Train multiple Random Forest models\n",
        "models = []\n",
        "for i in range(n_models):\n",
        "    model = RandomForestRegressor(n_estimators=100, random_state=42 + i)\n",
        "    model.fit(X_train, y_train)\n",
        "    models.append(model)\n",
        "\n",
        "# Get predictions from each model\n",
        "predictions = np.zeros((X_test.shape[0], n_models))\n",
        "for i, model in enumerate(models):\n",
        "    predictions[:, i] = model.predict(X_test)\n",
        "\n",
        "# Average predictions\n",
        "final_predictions = predictions.mean(axis=1)\n",
        "\n",
        "# Calculate Mean Squared Error\n",
        "error = mean_squared_error(y_test, final_predictions)\n",
        "print(f\"California Housing Dataset - Ensemble Random Forest Mean Squared Error: {error:.2f}\")\n"
      ]
    }
  ]
}